{
 "cells": [
  {
   "cell_type": "code",
   "execution_count": 8,
   "metadata": {
    "collapsed": true
   },
   "outputs": [],
   "source": [
    "# import and set options\n",
    "%matplotlib inline\n",
    "import numpy as np\n",
    "import pandas as pd\n",
    "import seaborn as sns\n",
    "import matplotlib.pyplot as plt\n",
    "import scipy.stats as stats\n",
    "import os\n",
    "import re\n",
    "import utils"
   ]
  },
  {
   "cell_type": "markdown",
   "metadata": {},
   "source": [
    "## Consistency\n",
    "\n",
    "We measured the consistency of top-ranked predictions on two random splits of samples, which had the same propotion of samples from each cancer type. Ideally, driver gene predictions would be stable across the partitioning of the data. We use the TopDrop score to measure the fraction of genes at a designated depth that were consistently top-ranked. Methods with low TopDrop score may have too much variance in prediction, which may lead to false predictions."
   ]
  },
  {
   "cell_type": "code",
   "execution_count": 10,
   "metadata": {
    "collapsed": true
   },
   "outputs": [],
   "source": [
    "def top_drop_overlap(s1, s2, depth):\n",
    "    \"\"\"Compute TopDrop overlap.\n",
    "    \n",
    "    Parameters\n",
    "    ----------\n",
    "    s1 : pd.Series\n",
    "        p-values for first half of split\n",
    "    s2 : pd.Series\n",
    "        p-values for second half of split\n",
    "    depth : int\n",
    "        number of genes to examine consistency\n",
    "    \n",
    "    Returns\n",
    "    -------\n",
    "    ov_sim : float\n",
    "        topdrop overlap score\n",
    "    \"\"\"\n",
    "    # get gene of interest by specified depth\n",
    "    s1, s2 = s1[:depth], s2[:2*depth]\n",
    "\n",
    "    # genes are supposed to be the index of the series\n",
    "    s1_genes = set(s1.index)\n",
    "    s2_genes = set(s2.index)\n",
    "\n",
    "    # calculate jaccard index\n",
    "    num_intersect = len(s1_genes & s2_genes)\n",
    "    num_total = len(s1_genes)\n",
    "    if num_total:\n",
    "        # provided series are not empty\n",
    "        ov_sim = num_intersect / float(num_total)\n",
    "    else:\n",
    "        # empty series case\n",
    "        ov_sim = 0\n",
    "    return ov_sim\n",
    "\n",
    "def consistency_comparison(df1, df2, mydepth,\n",
    "                           method, config):\n",
    "    \"\"\"Computes the TopDrop consistency for results on two random splits \n",
    "    of samples.\n",
    "    \"\"\"\n",
    "    # figure out which column to use\n",
    "    if utils.is_valid_config(config, method, 'consistency'):\n",
    "        pval_cols = config[method]['consistency']\n",
    "    else:\n",
    "        pval_cols = ['pvalue']\n",
    "\n",
    "    # check to see if the columns exist\n",
    "    all_exist = all([p in df1.columns for p in pval_cols])\n",
    "    if not all_exist:\n",
    "        print('Not all p-value columns were named correctly. Please specify '\n",
    "              'correct name in config file.')\n",
    "        return None\n",
    "\n",
    "    results = pd.DataFrame(index=[method])\n",
    "\n",
    "    pval1 = df1[pval_cols].min(axis=1).copy()\n",
    "    pval2 = df2[pval_cols].min(axis=1).copy()\n",
    "    pval1.sort_values(ascending=True, inplace=True)\n",
    "    pval2.sort_values(ascending=True, inplace=True)\n",
    "\n",
    "    # add top-drop scores\n",
    "    top_drop = top_drop_overlap(pval1, pval2, depth=mydepth)\n",
    "    td_scores = [top_drop]\n",
    "\n",
    "    tmp_results = pd.DataFrame({\n",
    "        'TopDrop {0} overlap'.format(mydepth): td_scores\n",
    "    },\n",
    "    index=[method])\n",
    "    results = pd.concat([results, tmp_results], axis=1)\n",
    "\n",
    "    return results\n",
    "\n",
    "def calculate_stats(df):\n",
    "    \"\"\"Computes mean and sem of topdrop.\n",
    "    \n",
    "    Parameters\n",
    "    ----------\n",
    "    df : pd.DataFrame\n",
    "        data frame containing topdrop scores\n",
    "    \n",
    "    Returns\n",
    "    -------\n",
    "    result_df : pd.DataFrame\n",
    "        Data frame with mean and sem\n",
    "    \"\"\"\n",
    "    tmp_means = df.mean()\n",
    "    tmp_sem = df.sem()\n",
    "    name = df.columns[0]\n",
    "    result_df = pd.DataFrame({name+' mean': tmp_means,\n",
    "                              name+' sem': tmp_sem})\n",
    "    result_df.rename(index=lambda x: df.index[0], inplace=True)\n",
    "    return result_df\n",
    "\n",
    "def read_consistency_results(consis_dir, depth, config):\n",
    "    \"\"\"Read in the consistency result files.\"\"\"\n",
    "    # read in results\n",
    "    sim_results = {}\n",
    "    # iterate over random splits\n",
    "    for i, mydir in enumerate(os.listdir(consis_dir)):\n",
    "        # figure out the methods\n",
    "        iter_dir = os.path.join(consis_dir, mydir)\n",
    "        methods = set(map(lambda x: re.split( '_[12]', os.path.basename(x))[0],\n",
    "                          os.listdir(iter_dir)))\n",
    "\n",
    "        # iterate over methods\n",
    "        for method in methods:\n",
    "            # prepare path\n",
    "            first_outfix = '{prefix}_1.txt'.format(prefix=method)\n",
    "            second_outfix = '{prefix}_2.txt'.format(prefix=method)\n",
    "            first_path = os.path.join(iter_dir, first_outfix)\n",
    "            second_path = os.path.join(iter_dir, second_outfix)\n",
    "\n",
    "            # read data\n",
    "            first_df = pd.read_csv(first_path, sep='\\t', index_col=0)\n",
    "            second_df = pd.read_csv(second_path, sep='\\t', index_col=0)\n",
    "\n",
    "            # calculate consistency\n",
    "            consistency_df = consistency_comparison(first_df, second_df,\n",
    "                                                    depth,\n",
    "                                                    method,\n",
    "                                                    config)\n",
    "            sim_results.setdefault(method, [])\n",
    "            sim_results[method].append(consistency_df)\n",
    "\n",
    "    # concatenate each iteration into dataframe\n",
    "    for method in sim_results:\n",
    "        sim_results[method] = pd.concat(sim_results[method])\n",
    "\n",
    "    # record result\n",
    "    final_results = []\n",
    "    for method in sim_results:\n",
    "        tmp_results = calculate_stats(sim_results[method])\n",
    "        final_results.append(tmp_results)\n",
    "    final_df = pd.concat(final_results)\n",
    "    \n",
    "    return final_df"
   ]
  },
  {
   "cell_type": "markdown",
   "metadata": {},
   "source": [
    "### Compute the TopDrop overlap\n",
    "\n",
    "The TopDrop consistency scores are directly computed from result files found in the `example_data/consistency_output` file."
   ]
  },
  {
   "cell_type": "code",
   "execution_count": 29,
   "metadata": {
    "collapsed": false
   },
   "outputs": [
    {
     "data": {
      "text/html": [
       "<div>\n",
       "<table border=\"1\" class=\"dataframe\">\n",
       "  <thead>\n",
       "    <tr style=\"text-align: right;\">\n",
       "      <th></th>\n",
       "      <th>TopDrop 100 overlap mean</th>\n",
       "      <th>TopDrop 100 overlap sem</th>\n",
       "    </tr>\n",
       "  </thead>\n",
       "  <tbody>\n",
       "    <tr>\n",
       "      <th>ActiveDriver</th>\n",
       "      <td>0.190</td>\n",
       "      <td>0.008165</td>\n",
       "    </tr>\n",
       "    <tr>\n",
       "      <th>OncodriveClust</th>\n",
       "      <td>0.232</td>\n",
       "      <td>0.005538</td>\n",
       "    </tr>\n",
       "    <tr>\n",
       "      <th>TUSON</th>\n",
       "      <td>0.727</td>\n",
       "      <td>0.009551</td>\n",
       "    </tr>\n",
       "    <tr>\n",
       "      <th>OncodriveFML</th>\n",
       "      <td>0.514</td>\n",
       "      <td>0.010242</td>\n",
       "    </tr>\n",
       "    <tr>\n",
       "      <th>MuSiC</th>\n",
       "      <td>0.869</td>\n",
       "      <td>0.008090</td>\n",
       "    </tr>\n",
       "    <tr>\n",
       "      <th>MutsigCV</th>\n",
       "      <td>0.505</td>\n",
       "      <td>0.006009</td>\n",
       "    </tr>\n",
       "    <tr>\n",
       "      <th>OncodriveFM</th>\n",
       "      <td>0.506</td>\n",
       "      <td>0.011274</td>\n",
       "    </tr>\n",
       "    <tr>\n",
       "      <th>2020+</th>\n",
       "      <td>0.749</td>\n",
       "      <td>0.010899</td>\n",
       "    </tr>\n",
       "  </tbody>\n",
       "</table>\n",
       "</div>"
      ],
      "text/plain": [
       "                TopDrop 100 overlap mean  TopDrop 100 overlap sem\n",
       "ActiveDriver                       0.190                 0.008165\n",
       "OncodriveClust                     0.232                 0.005538\n",
       "TUSON                              0.727                 0.009551\n",
       "OncodriveFML                       0.514                 0.010242\n",
       "MuSiC                              0.869                 0.008090\n",
       "MutsigCV                           0.505                 0.006009\n",
       "OncodriveFM                        0.506                 0.011274\n",
       "2020+                              0.749                 0.010899"
      ]
     },
     "execution_count": 29,
     "metadata": {},
     "output_type": "execute_result"
    }
   ],
   "source": [
    "# read in config file\n",
    "config = utils.load_config('config.yaml')\n",
    "\n",
    "# read in and calculate TopDrop consistency\n",
    "result = read_consistency_results('example_data/consistency_data/',  # directory for result files\n",
    "                                  100,  # TopDrop 100\n",
    "                                  config)\n",
    "result"
   ]
  },
  {
   "cell_type": "markdown",
   "metadata": {},
   "source": [
    "### Consistency plot\n",
    "\n",
    "The following function creates a bar plot for the consistency results stored in the above data frame."
   ]
  },
  {
   "cell_type": "code",
   "execution_count": 24,
   "metadata": {
    "collapsed": true
   },
   "outputs": [],
   "source": [
    "def plot_consistency(consis_df, depth):\n",
    "    \"\"\"Plot the consistency results.\"\"\"\n",
    "    # get col names and format order\n",
    "    mean_col = 'TopDrop {0} overlap mean'.format(depth)\n",
    "    sem_col = 'TopDrop {0} overlap sem'.format(depth)\n",
    "    method_order = consis_df.sort_values(mean_col).index.tolist()\n",
    "\n",
    "    # make plot\n",
    "    with sns.axes_style('ticks'), sns.plotting_context('talk', font_scale=1.5):\n",
    "            myax = sns.barplot(method_order, consis_df[mean_col].ix[method_order],\n",
    "                               order=method_order, color=sns.xkcd_rgb[\"grey\"])\n",
    "            myax.errorbar(np.arange(len(method_order)), consis_df[mean_col].ix[method_order],\n",
    "                          yerr=consis_df[sem_col].ix[method_order],\n",
    "                          fmt=None, ecolor=sns.xkcd_rgb[\"black\"],\n",
    "                          elinewidth=2, capsize=9, capthick=2)\n",
    "            myax.set_xticklabels(method_order, rotation=45, ha='right')\n",
    "            myax.yaxis.set_ticks_position('left')\n",
    "            myax.xaxis.set_ticks_position('bottom')\n",
    "            myax.set_ylabel('TopDrop Consistency ({0})'.format(depth))\n",
    "            myax.set_ylim((0, 1.0))\n",
    "\n",
    "            sns.despine()\n",
    "            ax = plt.gca()\n",
    "            plt.gca().tick_params(axis='x', which='major', pad=0)\n",
    "            plt.title('Consistency')\n",
    "\n",
    "    # save output\n",
    "    plt.gcf().set_size_inches(7, 7)\n",
    "    plt.tight_layout()"
   ]
  },
  {
   "cell_type": "code",
   "execution_count": 25,
   "metadata": {
    "collapsed": false
   },
   "outputs": [
    {
     "data": {
      "image/png": "[encoded data removed]",
      "text/plain": [
       "<matplotlib.figure.Figure at 0x10d935790>"
      ]
     },
     "metadata": {},
     "output_type": "display_data"
    }
   ],
   "source": [
    "plot_consistency(result, 100)"
   ]
  }
 ],
 "metadata": {
  "kernelspec": {
   "display_name": "Python 2",
   "language": "python",
   "name": "python2"
  },
  "language_info": {
   "codemirror_mode": {
    "name": "ipython",
    "version": 2
   },
   "file_extension": ".py",
   "mimetype": "text/x-python",
   "name": "python",
   "nbconvert_exporter": "python",
   "pygments_lexer": "ipython2",
   "version": "2.7.6"
  },
  "latex_envs": {
   "bibliofile": "biblio.bib",
   "cite_by": "apalike",
   "current_citInitial": 1,
   "eqLabelWithNumbers": true,
   "eqNumInitial": 0
  }
 },
 "nbformat": 4,
 "nbformat_minor": 0
}
