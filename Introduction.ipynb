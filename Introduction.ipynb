{
 "cells": [
  {
   "cell_type": "markdown",
   "metadata": {},
   "source": [
    "## Cancer driver gene evaluation\n",
    "\n",
    "### About\n",
    "\n",
    "A major goal of the huge public investment in large-scale cancer sequencing has been to find the majority of driver genes. Robust computational prediction of drivers from small somatic variants is critical to this mission, and it is essential that the best methods be identified. While many such methods have been proposed, it has been difficult to evaluate them because there is no gold standard to use as a benchmark. Here we developed an evaluation framework for driver gene prediction methods that does not soley rely on a gold standard. The framework includes a large set of small somatic mutations from a wide range of cancer types and five evaluation metrics. We propose it can be used to systematically evaluate new prediction methods and compare them to existing methods. The evaluations include (click links below to view):\n",
    "\n",
    "1. [Fraction overlap of predicted driver genes with the Cancer Gene Census (CGC)](Cancer gene census.ipynb)\n",
    "2. [Method concensus](method concensus.ipynb)\n",
    "3. [P-value distribution](P-value distribution.ipynb)\n",
    "4. [Prediction consistency](Consistency.ipynb)\n",
    "5. Number of predicted driver genes\n",
    "\n",
    "The number of predicted driver genes can be informative along side other factors to understand whether there is an inflation of false positive driver genes or particularly low power. Due to both extremes being unfavorable, we do not include it as a measurement for ranking each method. The average ranking of a method on measures 1-4 can be used to assess relative performance.\n",
    "\n",
    "### Jupyter notebooks\n",
    "\n",
    "We have prepared [jupyter notebooks](http://jupyter.org/) to help analysis of our cancer driver gene evaluation framework. You can use these notebooks and associated data to look at 8 methods which we have already analyzed, but also potentially compare additional new methods to these established results. For running your own methods, you will need to execute the method yourself on the same [mutations](http://karchinlab.org/data/Protocol/pancan-mutation-set-from-Tokheim-2016.txt.gz). In the following sections, we go through setting up data for executing the evaluation protocol for cancer driver genes.\n",
    "\n",
    "#### Download\n",
    "\n",
    "Be sure to be in the directory you would like to use for this protocol. The first step is to obtain the example data. You can use the `wget` command in bash to download the example data. On Mac, you may need to first install the `wget` command via [HomeBrew](http://brew.sh/) by `brew install wget`. In the following command we assume you are in the top-level directory. On windows you will need to download the file from the URL (without wget) and place it in the jupyter notebook directory.\n",
    "\n",
    "```bash\n",
    "$ wget http://karchinlab.org/data/Protocol/CGC-freeze-download-date-20160401.tsv\n",
    "$ wget http://karchinlab.org/data/Protocol/example_data.tar.gz\n",
    "$ tar xvzf example_data.tar.gz\n",
    "```\n",
    "\n",
    "#### Data format\n",
    "\n",
    "In the `example_data` folder, there are two folders which contain input data: `pancan` and `consistency_data`.\n",
    "The pancan folder contains the output files from each method. The first column should always be the gene name, and  contain a column for p-values and Benjamini-Hochberg q-values. The results of several methods should be in the same directory named by the convention `METHODNAME.txt`. For example, `pancan/TUSON.txt` is the output from the TUSON method. Of the 5 evaluation criteria, 4 use the results on the full data set (here, the pancan folder). The last criterion compares the consistency of predicted driver genes when the data is split randomly in half. The `consistency_data` folder contains the prediction results from each method on these random splits. The consistency folder has a sub-directory for results in each repetition of the random split, in this case `consistency_data/Iteration_0` to `consistency_data/Iteration_9`. The results for the first half of the split is saved as `consistency_data/Iteration_0/METHODNAME_1.txt` while the second half is `consistency_data/Iteration_0/METHODNAME_2.txt`.\n",
    "\n",
    "#### Configuration file\n",
    "\n",
    "Often methods will have different column names for the p-value/q-values. By default these jupyter notebooks assume the p-value column name is \"pvalue\", and the q-value column names is \"qvalue\". This can be changed through a YAML configuration file. In this tutorial, we have already provided you with a working configuration file (config.yaml). Although, this file can be tweaked and/or further extended for additional methods. The configuration file has the following format:\n",
    "\n",
    "```yaml\n",
    "METHODNAME:\n",
    "    qvalue:\n",
    "        - qvalCol1\n",
    "        - qvalCol2\n",
    "    pvalue:\n",
    "        - pvalCol1\n",
    "        - pvalCol2\n",
    "    consistency:\n",
    "        - col1\n",
    "        - col2\n",
    "```\n",
    "\n",
    "METHODNAME is the name of the method, which should match the file naming convention described in the data format above. In this example, the method reports two p-values (column names: \"pvalCol1\" and \"pvalCol2\") and two q-values (column names: \"qvalCol1\" and \"qvalCol2\"). In the common case that a method reports one p-value/q-value column, then only one bullet point for each attribute would be needed.\n"
   ]
  }
 ],
 "metadata": {
  "kernelspec": {
   "display_name": "Python 2",
   "language": "python",
   "name": "python2"
  },
  "language_info": {
   "codemirror_mode": {
    "name": "ipython",
    "version": 2
   },
   "file_extension": ".py",
   "mimetype": "text/x-python",
   "name": "python",
   "nbconvert_exporter": "python",
   "pygments_lexer": "ipython2",
   "version": "2.7.12"
  },
  "latex_envs": {
   "bibliofile": "biblio.bib",
   "cite_by": "apalike",
   "current_citInitial": 1,
   "eqLabelWithNumbers": true,
   "eqNumInitial": 0
  }
 },
 "nbformat": 4,
 "nbformat_minor": 0
}
